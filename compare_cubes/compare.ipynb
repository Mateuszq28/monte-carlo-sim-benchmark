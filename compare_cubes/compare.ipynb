{
 "cells": [
  {
   "cell_type": "markdown",
   "metadata": {},
   "source": [
    "# NOTEBOOK porównywanie dwóch ze sobą\n",
    "- porównać wizualnie\n",
    "- porównać wartości\n",
    "- miary statystyczne"
   ]
  },
  {
   "cell_type": "markdown",
   "metadata": {},
   "source": [
    "### Input json format\n",
    "\n",
    "```\n",
    "data = {\n",
    "            \"n_photons\": Nphotons,\n",
    "            \"overflow\": cube_overflow,\n",
    "            \"bins_per_1_cm\": bins_per_1_cm,\n",
    "            \"cube\": Cube\n",
    "        }\n",
    "```"
   ]
  },
  {
   "cell_type": "code",
   "execution_count": 2,
   "metadata": {},
   "outputs": [],
   "source": [
    "import json\n",
    "import numpy as np"
   ]
  },
  {
   "cell_type": "code",
   "execution_count": 3,
   "metadata": {},
   "outputs": [],
   "source": [
    "filename_mati_cube = \"mati_cube.json\"\n",
    "filename_t1_cube = \"mc456_mc_1mln_my_params_cube.json\"\n",
    "\n",
    "file_mati_cube = open(filename_mati_cube, 'r')\n",
    "file_t1_cube = open(filename_t1_cube, 'r')\n",
    "\n",
    "mati_cube = json.load(file_mati_cube)\n",
    "t1_cube = json.load(file_t1_cube)\n",
    "\n",
    "file_mati_cube.close()\n",
    "file_t1_cube.close()"
   ]
  },
  {
   "cell_type": "markdown",
   "metadata": {},
   "source": [
    "## Experiment"
   ]
  },
  {
   "cell_type": "markdown",
   "metadata": {},
   "source": [
    "<img src=\"../mati_sim/mati_propEnv.png\" alt=\"comparing methods\" width=\"300\"/>\n",
    "\n",
    "Axes are x=red, y=green, z=blue"
   ]
  },
  {
   "cell_type": "markdown",
   "metadata": {},
   "source": [
    "## Methods"
   ]
  },
  {
   "cell_type": "markdown",
   "metadata": {},
   "source": [
    "<!-- <img src=\"mati_benchmark_methods2.png\" alt=\"comparing methods\" width=\"900\"/> -->\n",
    "<img src=\"../mati_benchmark_methods2.png\" alt=\"comparing methods\" width=\"900\"/>\n",
    "<!-- ![comparing methods](mati_benchmark_methods2.png) -->"
   ]
  },
  {
   "cell_type": "markdown",
   "metadata": {},
   "source": [
    "### 1:1"
   ]
  },
  {
   "cell_type": "code",
   "execution_count": 8,
   "metadata": {},
   "outputs": [],
   "source": [
    "mati_array = np.asarray(mati_cube[\"cube\"])\n",
    "t1_array = np.asarray(t1_cube[\"cube\"])"
   ]
  },
  {
   "cell_type": "code",
   "execution_count": 12,
   "metadata": {},
   "outputs": [
    {
     "name": "stdout",
     "output_type": "stream",
     "text": [
      "0.020606858153521874\n",
      "0.020606858153521874\n"
     ]
    }
   ],
   "source": [
    "a = mati_array[20,30,61]\n",
    "b = mati_cube[\"cube\"][20][30][61]\n",
    "print(a)\n",
    "print(b)"
   ]
  },
  {
   "cell_type": "code",
   "execution_count": 11,
   "metadata": {},
   "outputs": [
    {
     "data": {
      "text/plain": [
       "0.020606858153521874"
      ]
     },
     "execution_count": 11,
     "metadata": {},
     "output_type": "execute_result"
    }
   ],
   "source": []
  },
  {
   "cell_type": "code",
   "execution_count": 7,
   "metadata": {},
   "outputs": [
    {
     "data": {
      "text/plain": [
       "(180, 180, 240)"
      ]
     },
     "execution_count": 7,
     "metadata": {},
     "output_type": "execute_result"
    }
   ],
   "source": [
    "mati_array.shape"
   ]
  }
 ],
 "metadata": {
  "kernelspec": {
   "display_name": "base",
   "language": "python",
   "name": "python3"
  },
  "language_info": {
   "codemirror_mode": {
    "name": "ipython",
    "version": 3
   },
   "file_extension": ".py",
   "mimetype": "text/x-python",
   "name": "python",
   "nbconvert_exporter": "python",
   "pygments_lexer": "ipython3",
   "version": "3.12.3"
  }
 },
 "nbformat": 4,
 "nbformat_minor": 2
}
