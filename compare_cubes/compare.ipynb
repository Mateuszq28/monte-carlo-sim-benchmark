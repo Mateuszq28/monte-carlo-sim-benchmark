{
 "cells": [
  {
   "cell_type": "markdown",
   "metadata": {},
   "source": [
    "# NOTEBOOK porównywanie dwóch ze sobą\n",
    "- porównać wizualnie\n",
    "- porównać wartości\n",
    "- miary statystyczne"
   ]
  },
  {
   "cell_type": "markdown",
   "metadata": {},
   "source": [
    "### Input json format\n",
    "\n",
    "```\n",
    "data = {\n",
    "            \"n_photons\": Nphotons,\n",
    "            \"overflow\": cube_overflow,\n",
    "            \"bins_per_1_cm\": bins_per_1_cm,\n",
    "            \"cube\": Cube\n",
    "        }\n",
    "```"
   ]
  },
  {
   "cell_type": "code",
   "execution_count": 1,
   "metadata": {},
   "outputs": [],
   "source": [
    "import json"
   ]
  },
  {
   "cell_type": "code",
   "execution_count": 2,
   "metadata": {},
   "outputs": [],
   "source": [
    "filename_mati_cube = \"mati_cube.json\"\n",
    "filename_t1_cube = \"mc456_mc_1mln_my_params_cube.json\"\n",
    "\n",
    "file_mati_cube = open(filename_mati_cube, 'r')\n",
    "file_t1_cube = open(filename_t1_cube, 'r')\n",
    "\n",
    "mati_cube = json.load(file_mati_cube)\n",
    "t1_cube = json.load(file_t1_cube)\n",
    "\n",
    "file_mati_cube.close()\n",
    "file_t1_cube.close()"
   ]
  },
  {
   "cell_type": "code",
   "execution_count": null,
   "metadata": {},
   "outputs": [],
   "source": []
  }
 ],
 "metadata": {
  "kernelspec": {
   "display_name": "base",
   "language": "python",
   "name": "python3"
  },
  "language_info": {
   "codemirror_mode": {
    "name": "ipython",
    "version": 3
   },
   "file_extension": ".py",
   "mimetype": "text/x-python",
   "name": "python",
   "nbconvert_exporter": "python",
   "pygments_lexer": "ipython3",
   "version": "3.12.3"
  }
 },
 "nbformat": 4,
 "nbformat_minor": 2
}
