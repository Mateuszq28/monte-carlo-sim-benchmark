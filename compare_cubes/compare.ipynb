{
 "cells": [
  {
   "cell_type": "markdown",
   "metadata": {},
   "source": [
    "# Comparison of two sets"
   ]
  },
  {
   "cell_type": "markdown",
   "metadata": {},
   "source": [
    "## Input json format\n",
    "\n",
    "```\n",
    "data = {\n",
    "            \"n_photons\": Nphotons,\n",
    "            \"overflow\": cube_overflow,\n",
    "            \"bins_per_1_cm\": bins_per_1_cm,\n",
    "            \"mu_a\": mu_a,\n",
    "            \"cube\": Cube\n",
    "        }\n",
    "```"
   ]
  },
  {
   "cell_type": "markdown",
   "metadata": {},
   "source": [
    "## Load data from json"
   ]
  },
  {
   "cell_type": "code",
   "execution_count": 1,
   "metadata": {},
   "outputs": [],
   "source": [
    "import json\n",
    "import numpy as np"
   ]
  },
  {
   "cell_type": "markdown",
   "metadata": {},
   "source": [
    "benchmark = filename_my_100mln_cube\n",
    "\n",
    "pairs to compare:\n",
    "1. filename_org_1mld_cube - filename_my_100mln_cube\n",
    "2. filename_my_1mln_cube - filename_my_100mln_cube\n",
    "3. filename_mati_cube - filename_my_100mln_cube"
   ]
  },
  {
   "cell_type": "code",
   "execution_count": 2,
   "metadata": {},
   "outputs": [],
   "source": [
    "def load_from_file(filename):\n",
    "    file = open(filename, 'r')\n",
    "    data = json.load(file)\n",
    "    file.close()\n",
    "    return data\n",
    "\n",
    "\n",
    "filename_mati_cube = \"mati_cube.json\"\n",
    "filename_my_1mln_cube = \"mc456_mc_1mln_my_params_cube.json\"\n",
    "filename_my_100mln_cube = \"mc456_mc_100mln_my_params_cube.json\"\n",
    "filename_org_1mld_cube = \"mc456_mc_1mld_original_params_cube.json\"\n",
    "\n",
    "mati_cube = load_from_file(filename_mati_cube)\n",
    "my_1mln_cube = load_from_file(filename_my_1mln_cube)\n",
    "my_100mln_cube = load_from_file(filename_my_100mln_cube)\n",
    "org_1mld_cube = load_from_file(filename_org_1mld_cube)\n",
    "\n",
    "mati_cube['mu_a'] = 0.37\n",
    "my_1mln_cube['mu_a'] = 0.37\n",
    "my_100mln_cube['mu_a'] = 0.37\n",
    "org_1mld_cube['mu_a'] = 1.0"
   ]
  },
  {
   "cell_type": "code",
   "execution_count": 8,
   "metadata": {},
   "outputs": [],
   "source": [
    "all_cubes = [mati_cube, my_1mln_cube, my_100mln_cube, org_1mld_cube]\n",
    "all_cubes_names = ['mati_cube', 'my_1mln_cube', 'my_100mln_cube', 'org_1mld_cube']\n",
    "\n",
    "for cub, name in zip(all_cubes, all_cubes_names):\n",
    "    cub['name'] = name"
   ]
  },
  {
   "cell_type": "code",
   "execution_count": null,
   "metadata": {},
   "outputs": [],
   "source": [
    "print(\"shape\", all_cubes[0]['cube'].shape)\n",
    "print(\"size\", all_cubes[0]['cube'].size)"
   ]
  },
  {
   "cell_type": "markdown",
   "metadata": {},
   "source": [
    "## Experiment"
   ]
  },
  {
   "cell_type": "markdown",
   "metadata": {},
   "source": [
    "<img src=\"../mati_sim/mati_propEnv.png\" alt=\"comparing methods\" width=\"300\"/>\n",
    "\n",
    "Axes are:<br>\n",
    "*x=red, y=green, z=blue*"
   ]
  },
  {
   "cell_type": "markdown",
   "metadata": {},
   "source": [
    "## Normalization"
   ]
  },
  {
   "cell_type": "code",
   "execution_count": 26,
   "metadata": {},
   "outputs": [
    {
     "name": "stdout",
     "output_type": "stream",
     "text": [
      "<class 'numpy.ndarray'>\n",
      "<class 'numpy.ndarray'>\n",
      "<class 'numpy.ndarray'>\n",
      "<class 'numpy.ndarray'>\n",
      "<class 'numpy.ndarray'>\n",
      "<class 'numpy.ndarray'>\n",
      "<class 'numpy.ndarray'>\n",
      "<class 'numpy.ndarray'>\n"
     ]
    }
   ],
   "source": [
    "def cube_list2array(d):\n",
    "    d['cube'] = np.asarray(d['cube'])\n",
    "\n",
    "\n",
    "for cub in all_cubes:\n",
    "    print(type(cub['cube']))\n",
    "    cube_list2array(cub)\n",
    "    print(type(cub['cube']))"
   ]
  },
  {
   "cell_type": "code",
   "execution_count": 31,
   "metadata": {},
   "outputs": [
    {
     "name": "stdout",
     "output_type": "stream",
     "text": [
      "           Name            Sum            Sum       Avg         Median       Overflow       perc. in      n_photons  non_zero_vals\n",
      "      mati_cube       443541.7       443541.7      0.06           0.02       556458.3          44.35        1000000        6191127\n",
      "   my_1mln_cube      509394.89       509400.0      0.07           0.03       490600.0          50.94      1000000.0        7653406\n",
      " my_100mln_cube    50933859.73     50930000.0      6.55           2.84     49070000.0          50.93      100000000        7776000\n",
      "  org_1mld_cube    864661000.0    864700000.0     111.2            0.0    135300000.0          86.47     1000000000            239\n"
     ]
    }
   ],
   "source": [
    "def print_stats(cub_list):\n",
    "    print(f\"{'Name' : >15}{'Sum' : >15}{'Sum' : >15}{'Avg' : >10}{'Median' : >15}{'Overflow' : >15}{'perc. in' : >15}{'n_photons' : >15}{'non_zero_vals' : >15}\")\n",
    "    for cub in cub_list:\n",
    "        cub_arr = cub['cube']\n",
    "        n_phot = cub['n_photons']\n",
    "        ovf = cub['overflow']\n",
    "        s = cub_arr.sum()\n",
    "        s2 = n_phot - ovf\n",
    "        avg = np.average(cub_arr)\n",
    "        me = np.median(cub_arr)\n",
    "        perc = s / n_phot * 100\n",
    "        non_zero_vals = cub_arr.size - np.isclose(cub_arr, 0).sum()\n",
    "        # to_round = [ovf, s, s2, avg, me, perc]\n",
    "        ovf = np.round(ovf, 2)\n",
    "        s = np.round(s, 2)\n",
    "        s2 = np.round(s2, 2)\n",
    "        avg = np.round(avg, 2)\n",
    "        me = np.round(me, 2)\n",
    "        perc = np.round(perc, 2)\n",
    "        print(f\"{cub['name'] : >15}{s : >15}{s2 : >15}{avg : >10}{me : >15}{ovf : >15}{perc : >15}{n_phot : >15}{non_zero_vals : >15}\")\n",
    "\n",
    "\n",
    "print_stats(all_cubes)"
   ]
  },
  {
   "cell_type": "markdown",
   "metadata": {},
   "source": [
    "normalization in *mc321.c*<br>\n",
    "Fsph = Csph[ir]/Nphotons/shellvolume/mua;\n",
    "[1/cm2]"
   ]
  },
  {
   "cell_type": "code",
   "execution_count": null,
   "metadata": {},
   "outputs": [],
   "source": [
    "def normalization(d):\n",
    "    # bins_per_1_cm = 120\n",
    "    # mu_a = 0.37\n",
    "    # n_photons = 1_000_000\n",
    "    # val = val * 4.67\n",
    "    bin_size_in_cm = 1 / d['bins_per_1_cm']\n",
    "    bin_volume = (bin_size_in_cm)**3\n",
    "    d['cube'] = d['cube'] / (d['n_photons'] * bin_volume * d['mu_a'])\n",
    "\n",
    "\n",
    "for c in all_cubes:\n",
    "    normalization(c)\n",
    "\n",
    "print_stats(all_cubes)"
   ]
  },
  {
   "cell_type": "code",
   "execution_count": 28,
   "metadata": {},
   "outputs": [
    {
     "name": "stdout",
     "output_type": "stream",
     "text": [
      "7776000\n",
      "7776000\n"
     ]
    }
   ],
   "source": [
    "cub_arr = all_cubes[0]['cube']\n",
    "shape = cub_arr.shape\n",
    "bins = shape[0] * shape[1] * shape[2]\n",
    "print(cub_arr.size)\n",
    "print(bins)"
   ]
  },
  {
   "cell_type": "code",
   "execution_count": null,
   "metadata": {},
   "outputs": [],
   "source": [
    "def normalization(d):\n",
    "\n",
    "normalizacja(każdy)"
   ]
  },
  {
   "cell_type": "markdown",
   "metadata": {},
   "source": [
    "## Methods"
   ]
  },
  {
   "cell_type": "markdown",
   "metadata": {},
   "source": [
    "<!-- <img src=\"mati_benchmark_methods2.png\" alt=\"comparing methods\" width=\"900\"/> -->\n",
    "<img src=\"../mati_benchmark_methods2.png\" alt=\"comparing methods\" width=\"900\"/>\n",
    "<!-- ![comparing methods](mati_benchmark_methods2.png) -->\n",
    "\n",
    "There are 3 ways to compare:\n",
    "1. 1:1 whole 3D array, element-wise\n",
    "2. x_high (sum and slices)\n",
    "3. z_high (sum and slices)"
   ]
  },
  {
   "cell_type": "markdown",
   "metadata": {},
   "source": [
    "### 1. 1:1 whole 3D array, element-wise"
   ]
  },
  {
   "cell_type": "markdown",
   "metadata": {},
   "source": [
    "metody:\n",
    "\n",
    "def d1_testy_solo:\n",
    "    sum\n",
    "    Średnia\n",
    "    Mediana\n",
    "    Odchylenie standardowe\n",
    "    histogram\n",
    "\n",
    "def d1_compare2arrays\n",
    "    korelacja\n",
    "    chi2\n",
    "    mutual information\n",
    "    różnica\n",
    "        testy_solo(różnica)\n",
    "\n",
    "\n",
    "\n",
    "\n",
    "\n",
    "\n",
    "\n",
    "flatten\n",
    "    testy_solo(każdy)\n",
    "    compare2arrays(kazdy do benchmarka)\n",
    "    \n",
    "\n",
    "\n",
    "histogram 3d\n",
    "\n",
    "\n",
    "\n",
    "\n",
    "\n",
    "make_frames\n",
    "show_frames\n",
    "\n",
    "\n",
    "\n",
    "\n",
    "\n",
    "\n",
    "\n",
    "\n",
    "\n",
    "NOTEBOOK porównywanie dwóch ze sobą\n",
    "    3 metody z obrazka\n",
    "        porównać wizualnie\n",
    "        porównać wartości\n",
    "        miary statystyczne\n",
    "\n",
    "    plot czasówek\n",
    "    plot jak zmieniają się miary wraz z wzrostem photons\n",
    "\n"
   ]
  },
  {
   "cell_type": "code",
   "execution_count": null,
   "metadata": {},
   "outputs": [],
   "source": []
  },
  {
   "cell_type": "code",
   "execution_count": 8,
   "metadata": {},
   "outputs": [],
   "source": [
    "mati_array = np.asarray(mati_cube[\"cube\"])\n",
    "t1_array = np.asarray(t1_cube[\"cube\"])"
   ]
  },
  {
   "cell_type": "code",
   "execution_count": 12,
   "metadata": {},
   "outputs": [
    {
     "name": "stdout",
     "output_type": "stream",
     "text": [
      "0.020606858153521874\n",
      "0.020606858153521874\n"
     ]
    }
   ],
   "source": [
    "a = mati_array[20,30,61]\n",
    "b = mati_cube[\"cube\"][20][30][61]\n",
    "print(a)\n",
    "print(b)"
   ]
  },
  {
   "cell_type": "code",
   "execution_count": 11,
   "metadata": {},
   "outputs": [
    {
     "data": {
      "text/plain": [
       "0.020606858153521874"
      ]
     },
     "execution_count": 11,
     "metadata": {},
     "output_type": "execute_result"
    }
   ],
   "source": []
  },
  {
   "cell_type": "code",
   "execution_count": 7,
   "metadata": {},
   "outputs": [
    {
     "data": {
      "text/plain": [
       "(180, 180, 240)"
      ]
     },
     "execution_count": 7,
     "metadata": {},
     "output_type": "execute_result"
    }
   ],
   "source": [
    "mati_array.shape"
   ]
  },
  {
   "cell_type": "markdown",
   "metadata": {},
   "source": [
    "### 2. z_high (sum and slices)"
   ]
  },
  {
   "cell_type": "markdown",
   "metadata": {},
   "source": [
    "### 3. x_high (sum and slices)"
   ]
  }
 ],
 "metadata": {
  "kernelspec": {
   "display_name": "base",
   "language": "python",
   "name": "python3"
  },
  "language_info": {
   "codemirror_mode": {
    "name": "ipython",
    "version": 3
   },
   "file_extension": ".py",
   "mimetype": "text/x-python",
   "name": "python",
   "nbconvert_exporter": "python",
   "pygments_lexer": "ipython3",
   "version": "3.12.3"
  }
 },
 "nbformat": 4,
 "nbformat_minor": 2
}
