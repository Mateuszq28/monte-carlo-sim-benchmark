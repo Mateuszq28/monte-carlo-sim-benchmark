{
 "cells": [
  {
   "cell_type": "markdown",
   "metadata": {},
   "source": [
    "This notebook transform output data from my (mati) monte-carlo-sim-python into format shown below:\n",
    "```\n",
    "data = {\n",
    "            \"n_photons\": Nphotons,\n",
    "            \"overflow\": cube_overflow,\n",
    "            \"bins_per_1_cm\": bins_per_1_cm,\n",
    "            \"cube\": Cube\n",
    "        }\n",
    "```"
   ]
  },
  {
   "cell_type": "code",
   "execution_count": 1,
   "metadata": {},
   "outputs": [],
   "source": [
    "import json"
   ]
  },
  {
   "cell_type": "code",
   "execution_count": 20,
   "metadata": {},
   "outputs": [],
   "source": [
    "filename_sim_dump = \"sim_dump.json\"\n",
    "filename_result_env = \"resultEnv.json\"\n",
    "filename_light_source = \"DefaultLightSource.json\"\n",
    "\n",
    "file_sim_dump = open(filename_sim_dump, 'r')\n",
    "file_result_env = open(filename_result_env, 'r')\n",
    "file_light_source = open(filename_light_source, 'r')\n",
    "\n",
    "sim_dump = json.load(file_sim_dump)\n",
    "result_env = json.load(file_result_env)\n",
    "light_source = json.load(file_light_source)\n",
    "\n",
    "file_sim_dump.close()\n",
    "file_result_env.close()\n",
    "file_light_source.close()"
   ]
  },
  {
   "cell_type": "code",
   "execution_count": 21,
   "metadata": {},
   "outputs": [
    {
     "name": "stdout",
     "output_type": "stream",
     "text": [
      "--- SIM DUMP ---\n",
      "0. default_env_path\n",
      "1. default_light_surce_path\n",
      "2. default_prop_setup_path\n",
      "3. chosen_env_path\n",
      "4. chosen_light_source_path\n",
      "5. chosen_prop_setup_path\n",
      "6. escaped_photons_weight\n",
      "7. resultShape\n",
      "8. random_seed_pool\n",
      "9. generated_num\n",
      "10. simulation_calculation_time\n",
      "11. boundary_check_calculation_time\n",
      "12. config\n",
      "13. photon_register\n",
      "\n",
      "--- LIGHT SOURCE ---\n",
      "0. body\n",
      "1. light_source_label\n",
      "2. light_source_list\n",
      "3. body_type\n",
      "4. tropic\n",
      "5. source_type\n",
      "6. source_anchor\n",
      "7. photon_limit\n",
      "8. photon_limits_list\n",
      "9. self.height\n",
      "10. self.width\n",
      "11. self.depth\n",
      "12. self.shape\n",
      "13. composition\n",
      "\n",
      "--- RESULT ENV ---\n",
      "0. resultEnv\n",
      "\n",
      "\n",
      "--- SIM DUMP . config ---\n",
      "0. flag_make_default_env\n",
      "1. flag_make_default_light_source\n",
      "2. flag_make_default_prop_setup_file\n",
      "3. flag_use_default_env\n",
      "4. alternative_env_path\n",
      "5. flag_use_default_light_surce\n",
      "6. alternative_light_source_path\n",
      "7. flag_use_default_prop_setup\n",
      "8. alternative_prop_setup_path\n",
      "9. flag_make_prop_setup_from_componentes\n",
      "10. flag_use_propenv_on_formulas\n",
      "11. flag_ignore_prop_env_labels\n",
      "12. global_label_if_ignore_prop_env_labels\n",
      "13. use_proba_instead_of_splitting\n",
      "14. recurention_if_split\n",
      "15. flag_result_records_pos_int\n",
      "16. flag_seve_result_records\n",
      "17. flag_save_result_env\n",
      "18. min_step_when_boundary_cross\n",
      "19. random_seed\n",
      "20. precision\n",
      "21. bins_per_1_cm\n",
      "22. anisotropy_of_scattering_g\n",
      "23. photon_weight_threshold\n",
      "24. photon_chance\n",
      "25. tissue_properties\n",
      "\n",
      "--- SIM DUMP . config . tissue_properties . 1 ---\n",
      "0. mu_a\n",
      "1. mu_s\n",
      "2. n\n",
      "3. name\n",
      "4. print color\n"
     ]
    }
   ],
   "source": [
    "def print_dict_keys(d):\n",
    "    ks = d.keys()\n",
    "    for i,e in zip( range(len(ks)), ks ):\n",
    "        print(f'{i}. {e}')\n",
    "\n",
    "\n",
    "print(\"--- SIM DUMP ---\")\n",
    "print_dict_keys(sim_dump)\n",
    "print()\n",
    "print(\"--- LIGHT SOURCE ---\")\n",
    "print_dict_keys(light_source)\n",
    "print()\n",
    "print(\"--- RESULT ENV ---\")\n",
    "print_dict_keys(result_env)\n",
    "print()\n",
    "print()\n",
    "print(\"--- SIM DUMP . config ---\")\n",
    "print_dict_keys(sim_dump['config'])\n",
    "print()\n",
    "print(\"--- SIM DUMP . config . tissue_properties . 1 ---\")\n",
    "print_dict_keys(sim_dump['config']['tissue_properties']['1'])"
   ]
  },
  {
   "cell_type": "code",
   "execution_count": 24,
   "metadata": {},
   "outputs": [],
   "source": [
    "cube_dict = {\n",
    "                \"n_photons\": light_source['photon_limit'],\n",
    "                \"overflow\": sim_dump['escaped_photons_weight'],\n",
    "                \"bins_per_1_cm\": sim_dump['config']['bins_per_1_cm'],\n",
    "                \"cube\": result_env['resultEnv']\n",
    "            }"
   ]
  },
  {
   "cell_type": "code",
   "execution_count": 25,
   "metadata": {},
   "outputs": [],
   "source": [
    "out_file = open(\"mati_cube.json\", \"w\")\n",
    " \n",
    "json.dump(cube_dict, out_file)\n",
    " \n",
    "out_file.close()"
   ]
  }
 ],
 "metadata": {
  "kernelspec": {
   "display_name": "base",
   "language": "python",
   "name": "python3"
  },
  "language_info": {
   "codemirror_mode": {
    "name": "ipython",
    "version": 3
   },
   "file_extension": ".py",
   "mimetype": "text/x-python",
   "name": "python",
   "nbconvert_exporter": "python",
   "pygments_lexer": "ipython3",
   "version": "3.12.3"
  }
 },
 "nbformat": 4,
 "nbformat_minor": 2
}
